{
 "cells": [
  {
   "cell_type": "code",
   "execution_count": 1,
   "metadata": {},
   "outputs": [
    {
     "name": "stderr",
     "output_type": "stream",
     "text": [
      "[nltk_data] Downloading package vader_lexicon to\n",
      "[nltk_data]     /Users/allen/nltk_data...\n",
      "[nltk_data]   Package vader_lexicon is already up-to-date!\n",
      "[nltk_data] Downloading package punkt to /Users/allen/nltk_data...\n",
      "[nltk_data]   Package punkt is already up-to-date!\n"
     ]
    },
    {
     "data": {
      "text/plain": [
       "True"
      ]
     },
     "execution_count": 1,
     "metadata": {},
     "output_type": "execute_result"
    }
   ],
   "source": [
    "# Jia-luen Yang\n",
    "\n",
    "import pandas as pd\n",
    "import json\n",
    "import os\n",
    "import matplotlib.pyplot as plt\n",
    "from sklearn.pipeline import Pipeline\n",
    "from sklearn.feature_extraction.text import TfidfVectorizer\n",
    "from sklearn.naive_bayes import MultinomialNB, ComplementNB\n",
    "from sklearn.svm import LinearSVC\n",
    "from sklearn.svm import SVC\n",
    "from sklearn.linear_model import LogisticRegression\n",
    "from sklearn.metrics import accuracy_score, classification_report\n",
    "from sklearn.model_selection import learning_curve\n",
    "from sklearn.metrics import confusion_matrix\n",
    "from sklearn.model_selection import train_test_split\n",
    "import seaborn as sns\n",
    "import textwrap\n",
    "from langdetect import detect\n",
    "import nltk\n",
    "from nltk.tokenize import word_tokenize\n",
    "from nltk.stem import PorterStemmer\n",
    "from nltk.sentiment.vader import SentimentIntensityAnalyzer\n",
    "from textblob import TextBlob\n",
    "from nltk.corpus import stopwords\n",
    "nltk.download('vader_lexicon')\n",
    "nltk.download('punkt')"
   ]
  },
  {
   "cell_type": "code",
   "execution_count": 2,
   "metadata": {},
   "outputs": [],
   "source": [
    "num_of_files = len(os.listdir('JSON'))\n",
    "\n",
    "df_list = []\n",
    "\n",
    "for i in range(1, num_of_files + 1):\n",
    "    json_file_path = 'JSON/' + str(i) + '.json'\n",
    "\n",
    "    with open(json_file_path, 'r') as file:\n",
    "        json_data = json.load(file)\n",
    "        data = json_data['data']\n",
    "\n",
    "    df_list.append(pd.DataFrame(data))\n",
    "\n",
    "df = pd.concat(df_list, ignore_index=True)\n",
    "\n",
    "\n",
    "# Remove non-English reviews\n",
    "def detect_language(text):\n",
    "    try:\n",
    "        return detect(text)\n",
    "    except:\n",
    "        return 'unknown'\n",
    "\n",
    "# df['language'] = df['body'].apply(detect_language)\n",
    "# test = df[df['language'] != 'en']\n",
    "# for index, row in test.iterrows():\n",
    "#     print(row['body'])\n",
    "# df = df[df['language'] == 'en']\n",
    "# df.drop(columns=['language'], inplace=True)"
   ]
  },
  {
   "cell_type": "markdown",
   "metadata": {},
   "source": [
    "### Data Distribution"
   ]
  },
  {
   "cell_type": "code",
   "execution_count": 3,
   "metadata": {},
   "outputs": [
    {
     "name": "stdout",
     "output_type": "stream",
     "text": [
      "Number of AI-assisted human reviews:  145\n"
     ]
    }
   ],
   "source": [
    "print(\"Number of AI-assisted human reviews: \", (df['isAI'] == 2).sum())\n",
    "\n",
    "df.loc[df['isAI'] == 2, 'isAI'] = 1"
   ]
  },
  {
   "cell_type": "code",
   "execution_count": 4,
   "metadata": {},
   "outputs": [
    {
     "name": "stdout",
     "output_type": "stream",
     "text": [
      "Number of AI reviews:      1116\n",
      "Number of human reviews:   5101\n",
      "Total number of reviews:   6217\n",
      "Percentage of AI reviews:  17.95%\n"
     ]
    }
   ],
   "source": [
    "print(\"Number of AI reviews:     \", (df['isAI'] == 1).sum())\n",
    "print(\"Number of human reviews:  \", (df['isAI'] == 0).sum())\n",
    "print(\"Total number of reviews:  \", len(df))\n",
    "print(\"Percentage of AI reviews:  {:.2f}%\".format((df['isAI'] == 1).sum()/len(df) * 100))"
   ]
  },
  {
   "cell_type": "code",
   "execution_count": 5,
   "metadata": {},
   "outputs": [
    {
     "name": "stdout",
     "output_type": "stream",
     "text": [
      "Percentage of AI reviews given the review has photos:  79.89%\n",
      "Percentage of AI reviews given the review has a video: 70.15%\n"
     ]
    }
   ],
   "source": [
    "temp_df = df[df['hasImage'] == 1].copy()\n",
    "print(\"Percentage of AI reviews given the review has photos:  {:.2f}%\".format((temp_df['isAI'] == 0).sum() / len(temp_df) * 100))\n",
    "\n",
    "temp_df = df[df['hasVideo'] == 1].copy()\n",
    "print(\"Percentage of AI reviews given the review has a video: {:.2f}%\".format((temp_df['isAI'] == 0).sum() / len(temp_df) * 100))"
   ]
  },
  {
   "cell_type": "code",
   "execution_count": 6,
   "metadata": {},
   "outputs": [],
   "source": [
    "X_train,X_test,y_train,y_test=train_test_split(df['body'],df['isAI'],test_size=0.3, stratify=df['isAI'], random_state=42)"
   ]
  },
  {
   "cell_type": "code",
   "execution_count": 7,
   "metadata": {},
   "outputs": [
    {
     "name": "stderr",
     "output_type": "stream",
     "text": [
      "/Users/allen/anaconda3/lib/python3.10/site-packages/sklearn/svm/_classes.py:32: FutureWarning: The default value of `dual` will change from `True` to `'auto'` in 1.5. Set the value of `dual` explicitly to suppress the warning.\n",
      "  warnings.warn(\n"
     ]
    },
    {
     "name": "stdout",
     "output_type": "stream",
     "text": [
      "MNB: 93.52%\n",
      "LG:  97.32%\n",
      "CNB: 96.73%\n",
      "SVC: 99.25%\n"
     ]
    }
   ],
   "source": [
    "pipeMNB = Pipeline([('tfidf',TfidfVectorizer(stop_words='english')),('clf',MultinomialNB())])\n",
    "pipeLogReg = Pipeline([('tfidf',TfidfVectorizer(stop_words='english')),('clf',LogisticRegression())])\n",
    "pipeCNB = Pipeline([('tfidf',TfidfVectorizer(stop_words='english')),('clf',ComplementNB())])\n",
    "pipeSVC = Pipeline([('tfidf',TfidfVectorizer(stop_words='english')),('clf',LinearSVC())])\n",
    "\n",
    "pipeMNB.fit(X_train,y_train)\n",
    "pipeLogReg.fit(X_train,y_train)\n",
    "pipeCNB.fit(X_train,y_train)\n",
    "pipeSVC.fit(X_train,y_train)\n",
    "\n",
    "predictMNB = pipeMNB.predict(X_test)\n",
    "predictLogReg = pipeLogReg.predict(X_test)\n",
    "predictCNB = pipeCNB.predict(X_test)\n",
    "predictCSV = pipeSVC.predict(X_test)\n",
    "\n",
    "mnb = accuracy_score(y_test,predictMNB)\n",
    "lg = accuracy_score(y_test,predictLogReg)\n",
    "cnb = accuracy_score(y_test,predictCNB)\n",
    "svc = accuracy_score(y_test,predictCSV)\n",
    "\n",
    "print(f\"MNB: {mnb*100:.2f}%\")\n",
    "print(f\"LG:  {lg*100:.2f}%\")\n",
    "print(f\"CNB: {cnb*100:.2f}%\")\n",
    "print(f\"SVC: {svc*100:.2f}%\")"
   ]
  },
  {
   "cell_type": "code",
   "execution_count": 8,
   "metadata": {},
   "outputs": [
    {
     "name": "stdout",
     "output_type": "stream",
     "text": [
      "Classification Report for Multinomial Naive Bayes:\n",
      "              precision    recall  f1-score   support\n",
      "\n",
      "           0     0.9268    1.0000    0.9620      1531\n",
      "           1     1.0000    0.6388    0.7796       335\n",
      "\n",
      "    accuracy                         0.9352      1866\n",
      "   macro avg     0.9634    0.8194    0.8708      1866\n",
      "weighted avg     0.9399    0.9352    0.9292      1866\n",
      "\n"
     ]
    }
   ],
   "source": [
    "print(\"Classification Report for Multinomial Naive Bayes:\")\n",
    "print(classification_report(y_test, predictMNB, digits=4))"
   ]
  },
  {
   "cell_type": "code",
   "execution_count": 9,
   "metadata": {},
   "outputs": [
    {
     "name": "stdout",
     "output_type": "stream",
     "text": [
      "Classification Report for Logistic Regression:\n",
      "              precision    recall  f1-score   support\n",
      "\n",
      "           0     0.9684    1.0000    0.9839      1531\n",
      "           1     1.0000    0.8507    0.9194       335\n",
      "\n",
      "    accuracy                         0.9732      1866\n",
      "   macro avg     0.9842    0.9254    0.9516      1866\n",
      "weighted avg     0.9741    0.9732    0.9723      1866\n",
      "\n"
     ]
    }
   ],
   "source": [
    "print(\"Classification Report for Logistic Regression:\")\n",
    "print(classification_report(y_test, predictLogReg, digits=4))"
   ]
  },
  {
   "cell_type": "code",
   "execution_count": 10,
   "metadata": {},
   "outputs": [
    {
     "name": "stdout",
     "output_type": "stream",
     "text": [
      "Classification Report for Complement Naive Bayes:\n",
      "              precision    recall  f1-score   support\n",
      "\n",
      "           0     0.9688    0.9922    0.9803      1531\n",
      "           1     0.9597    0.8537    0.9036       335\n",
      "\n",
      "    accuracy                         0.9673      1866\n",
      "   macro avg     0.9642    0.9229    0.9420      1866\n",
      "weighted avg     0.9671    0.9673    0.9665      1866\n",
      "\n"
     ]
    }
   ],
   "source": [
    "print(\"Classification Report for Complement Naive Bayes:\")\n",
    "print(classification_report(y_test, predictCNB, digits=4))"
   ]
  },
  {
   "cell_type": "code",
   "execution_count": 11,
   "metadata": {},
   "outputs": [
    {
     "name": "stdout",
     "output_type": "stream",
     "text": [
      "Classification Report for Support Vector Classifier:\n",
      "              precision    recall  f1-score   support\n",
      "\n",
      "           0     0.9916    0.9993    0.9954      1531\n",
      "           1     0.9969    0.9612    0.9787       335\n",
      "\n",
      "    accuracy                         0.9925      1866\n",
      "   macro avg     0.9942    0.9803    0.9871      1866\n",
      "weighted avg     0.9925    0.9925    0.9924      1866\n",
      "\n"
     ]
    }
   ],
   "source": [
    "print(\"Classification Report for Support Vector Classifier:\")\n",
    "print(classification_report(y_test, predictCSV, digits=4))"
   ]
  },
  {
   "cell_type": "code",
   "execution_count": 12,
   "metadata": {},
   "outputs": [
    {
     "data": {
      "image/png": "[encoded data removed]",
      "text/plain": [
       "<Figure size 800x600 with 2 Axes>"
      ]
     },
     "metadata": {},
     "output_type": "display_data"
    }
   ],
   "source": [
    "def plot_confustion_matrix(conf_matrix):\n",
    "    # Plot confusion matrix\n",
    "    plt.figure(figsize=(8, 6))\n",
    "    sns.heatmap(conf_matrix, annot=True, fmt='d', cmap='Blues', xticklabels=['Human', 'AI'], yticklabels=['Human', 'AI'])\n",
    "    plt.xlabel('Predicted')\n",
    "    plt.ylabel('True')\n",
    "    plt.title('Confusion Matrix')\n",
    "    plt.show()\n",
    "\n",
    "# Calculate confusion matrix\n",
    "conf_matrix = confusion_matrix(y_test, predictCSV)\n",
    "plot_confustion_matrix(conf_matrix)"
   ]
  },
  {
   "cell_type": "code",
   "execution_count": 13,
   "metadata": {},
   "outputs": [
    {
     "name": "stdout",
     "output_type": "stream",
     "text": [
      "False Negatives:\n",
      "===========================\n",
      "\n",
      "I've been using this weekly planner pad for my desk, and it's been amazing for keeping me organized both at work and at home. The\n",
      "multiple sections help me stay on track each week, with dedicated spaces for top priorities, to-do lists, and daily plans for both\n",
      "weekdays and weekend. The pad is designed with easy tear-off pages, which is convenient when moving on to a new week. I\n",
      "particularly like the notes section, which comes in handy for jotting down important information. The size is perfect for my desk,\n",
      "and the layout provides enough space to plan out the week effectively. Overall, this weekly planner pad has become an essential\n",
      "tool for me, and I highly recommend it to anyone looking to stay organized and on top of their schedule weekly.\n",
      "\n",
      "\n",
      "I just got the Razer DeathAdder Essential Gaming Mouse, and I really like it for my gaming setup.  First off, it feels good in my\n",
      "hand. The design is simple but comfy, and the textured grips on the sides keep it from slipping during long gaming sessions. It's\n",
      "not too fancy, but it works well.  When it comes to gaming, this mouse is top-notch. It responds super quickly and accurately,\n",
      "making my game moves smooth. I can also change the sensitivity settings to fit how I like to play different games.  The mouse is\n",
      "tough and well-made. It feels strong, and the buttons click nicely, adding to the gaming experience. What's cool is that it\n",
      "doesn't cost a lot, making it perfect for gamers who want quality without spending too much.  Sure, it doesn't have all the fancy\n",
      "lights like some other mice, but for the price and how well it works, I'm okay with that. It's a solid choice for gamers on a\n",
      "budget who still want a good gaming mouse.  In a nutshell, the Razer DeathAdder Essential Gaming Mouse is awesome and won't hurt\n",
      "your wallet. It's comfy, works great for gaming, and is a smart pick if you're looking for quality without breaking the bank. I\n",
      "totally recommend it!\n",
      "\n",
      "\n",
      "I recently found myself in need of some replacement parts for my Roborock S6 Pure robot vacuum. After some research, I decided to\n",
      "give the 21 Pack Upgrade Replacement Parts a try, and I'm extremely glad I did.  This kit was exactly what I needed. It was\n",
      "comprehensive, including all the necessary parts to keep my Roborock S6 Pure functioning at its best. The parts were easy to\n",
      "install, and I noticed an immediate improvement in my vacuum's performance.  The quality of the parts was also impressive. They\n",
      "seemed durable and well-made, which gives me confidence that they'll last for a good amount of time.  Overall, I'm very satisfied\n",
      "with this purchase. If you're in need of replacement parts for your Roborock S6 Pure, I highly recommend this kit. It truly did\n",
      "the trick for me!\n",
      "\n",
      "\n",
      "The Square POS Stand is a breeze to set up – the process is self-explanatory and hassle-free. However, it’s worth noting that it\n",
      "requires a wall-plugged power source, which might be inconvenient for businesses on the go, like mine that operates at anime\n",
      "conventions, dance events, and concerts, especially outdoors.  On the bright side, it pairs seamlessly with a certified\n",
      "refurbished iPad and functions exceptionally well. If a wall-plugged power source isn’t a concern for your business, this stand is\n",
      "a solid choice for efficient and stylish transactions.\n",
      "\n",
      "\n",
      "The NERF Rival Charger MXX-1200 was a great Christmas gift for my son... and me! When you hear the motor spin up you get excited.\n",
      "It has a 12-round capacity and it is motorized, it beats hand-pumping single shots. Hits somewhere around 100 FPS so it doesn't\n",
      "hurt but you know you're hit. Easy for younger kids to reload, and fun to use – a must-have for any NERF enthusiast!\n",
      "\n",
      "\n",
      "The Glock 19 Gen3 .177 Caliber BB Gun Air Pistol is an excellent replica of the real Glock 19 handgun. This air pistol is designed\n",
      "to shoot steel BBs at a velocity of up to 410 feet per second, making it an ideal option for target shooting and plinking.  One of\n",
      "the best things about this air pistol is its accuracy. The design of the pistol closely resembles the real Glock 19, and it has a\n",
      "fixed front sight and a rear sight that is adjustable for windage and elevation. This makes it easy to aim and shoot accurately,\n",
      "even at longer distances.  The Glock 19 Gen3 .177 Caliber BB Gun Air Pistol is also well-made. It is constructed of high-quality\n",
      "materials that are durable and built to last, and it has a comfortable grip that is easy to hold and control. The pistol also has\n",
      "a smooth trigger pull that is easy to operate.  Another great feature of this air pistol is its realism. The Glock 19 Gen3 .177\n",
      "Caliber BB Gun Air Pistol has a similar weight and feel to the real Glock 19, making it an excellent option for training and\n",
      "practicing gun handling and shooting skills. It also has a realistic blowback action that simulates the recoil of a real firearm.\n",
      "Overall, the Glock 19 Gen3 .177 Caliber BB Gun Air Pistol is a great option for anyone who wants to practice their shooting skills\n",
      "or enjoy some target shooting or plinking. Its accuracy, quality, and realism make it an excellent value for the price, and its\n",
      "durable design ensures that it will last for years to come.\n",
      "\n",
      "\n",
      "The Simple Designs LF1014-BLK is a stylish and functional floor lamp that is perfect for any room in your home.  The lamp is made\n",
      "of black metal and it has a linen shade. The shade is lined with gold, which gives the lamp a touch of elegance.  The lamp is 62.5\n",
      "inches tall and it has a base that is 10.2 inches in diameter. The lamp is also lightweight, making it easy to move around.  I've\n",
      "been using the Simple Designs LF1014-BLK for a few months now and I'm very impressed with it. It's stylish, functional, and easy\n",
      "to use. I highly recommend it.  Pros:  Stylish Functional Easy to use Lightweight Touch-dimmer  Cons:  None that I've found\n",
      "Overall:  The Simple Designs LF1014-BLK is a great floor lamp. It's stylish, functional, and easy to use. I highly recommend it.\n",
      "Here are some additional thoughts:  I love the look of the Simple Designs LF1014-BLK. It's a great way to add a touch of elegance\n",
      "to any room. I'm also glad that the lamp is lightweight. This makes it easy to move around, which is great if you like to change\n",
      "the layout of your room often.  Overall, I'm very happy with the Simple Designs LF1014-BLK. It's a great floor lamp and I highly\n",
      "recommend it.\n",
      "\n",
      "\n",
      "Oh boy, where do I even begin with this shave gel?  The gel itself is so smooth that it practically glides across my skin like a\n",
      "greased-up penguin on an ice rink. It's like I'm shaving with a tiny, well-oiled acrobat! Every stroke feels like a juggling act,\n",
      "hoping my razor doesn't do a backflip and land on my nose.  In all seriousness, this shave gel has become my secret weapon for\n",
      "starting the day. It's a fantastic product that keeps my face silky smooth and razor burn to a minimum. I used regular shave\n",
      "cream/gel for years and will never go back.  Disclaimer: No penguins were harmed in the making of this review.\n",
      "\n",
      "\n",
      "The Shiatsu Neck and Back Massager is a great way to relax and relieve pain. It has two rotating nodes that provide deep tissue\n",
      "massage, and it can be used on the neck, shoulders, back, legs, and feet.  The massager is easy to use. Simply attach the straps\n",
      "to your body, turn it on, and select the massage mode that you want. The massager has three different massage modes: shiatsu,\n",
      "kneading, and tapping.  I've been using the Shiatsu Neck and Back Massager for a few weeks now and I'm really impressed with it.\n",
      "It's a great way to relax after a long day, and it's also helped to relieve some of the pain in my neck and back.  Pros:  Deep\n",
      "tissue massage Easy to use Three different massage modes Portable Affordable  Cons:  None that I've found  Overall:  The Shiatsu\n",
      "Neck and Back Massager is a great way to relax and relieve pain. It's easy to use, it's affordable, and it's portable. I highly\n",
      "recommend it.  Here are some additional thoughts:  I like that the massager has three different massage modes. This allows me to\n",
      "choose the mode that best suits my needs. I'm also impressed with the portability of the massager. It's small and lightweight, so\n",
      "I can easily take it with me on trips or to work. I'm also glad that the massager is affordable. It's a great way to get a deep\n",
      "tissue massage without having to spend a lot of money.  Overall, I'm very happy with the Shiatsu Neck and Back Massager. It's a\n",
      "great way to relax and relieve pain, and I highly recommend it.\n",
      "\n",
      "\n",
      "I purchased the GERIT BATT 48-11-2460 12V 6.0Ah Replacement for Milwaukee 12V Battery with hopes of upgrading from my Craftsman\n",
      "19.2-volt batteries. Unfortunately, these batteries turned out to be complete junk. Not only did they fail to work as\n",
      "replacements, but they also brought to light the broader issue of poor quality in the Craftsman 19.2-volt line.  The GERIT BATT\n",
      "batteries simply did not function as advertised, leaving me with non-functional tools and a sense of frustration. While I\n",
      "initially hoped for an improvement over Craftsman, it appears that the problems extend beyond the specific brand.  In my\n",
      "experience, everything Craftsman made in the 19.2-volt line proved to be of subpar quality, and the GERIT BATT replacement\n",
      "batteries only compounded the disappointment. I cannot recommend these batteries to anyone seeking a reliable replacement for\n",
      "Craftsman 19.2-volt batteries or an upgrade in general. Save your money and look for alternatives with a better track record.\n",
      "\n",
      "\n",
      "The TRENDOUX Winter Gloves are a great pair of gloves for winter. They're warm, comfortable, and stylish.  The gloves are made of\n",
      "a soft, synthetic leather that is both warm and breathable. They also have a fleece lining that helps to trap heat.  The gloves\n",
      "have a snug fit that helps to keep your hands warm. They also have a touchscreen compatible index finger, so you can use your\n",
      "phone without taking your gloves off.  I've been wearing the TRENDOUX Winter Gloves for a few weeks now and I'm really impressed\n",
      "with them. They're very comfortable to wear, and they've kept my hands warm even in the coldest weather.  Pros:  Warm and\n",
      "comfortable Breathable Snug fit Touchscreen compatible index finger Durable Stylish Affordable  Cons:  None that I've found\n",
      "Overall:  The TRENDOUX Winter Gloves are a great pair of gloves for winter. They're warm, comfortable, stylish, and affordable. I\n",
      "highly recommend them.  Here are some additional thoughts:  I like that the gloves are made of a soft, synthetic leather. This\n",
      "makes them both warm and breathable, which is important for me in cold weather. I'm also impressed with the snug fit of the\n",
      "gloves. They help to trap heat, which keeps my hands warm. I'm also glad that the gloves have a touchscreen compatible index\n",
      "finger. This makes it easy to use my phone without taking my gloves off. I also like the stylish design of the gloves. They're not\n",
      "too bulky, and they come in a variety of colors.  Overall, I'm very happy with the TRENDOUX Winter Gloves. They're a great way to\n",
      "stay warm in cold weather, and I highly recommend them.\n",
      "\n",
      "\n",
      "I recently tried out the audiosoul 52-Pack Acoustic Panels, and they do a decent job in preventing sound bounce during recordings.\n",
      "However, it’s important to note that these panels are not designed for blocking sound from getting through (soundproofing).  If\n",
      "you’re seeking a product to enhance acoustic conditions within a room, these panels work as intended. Just keep in mind that they\n",
      "are thinner than expected. Despite this, considering the price and quantity, they serve their purpose adequately. Just be clear on\n",
      "your expectations regarding soundproofing before purchasing.\n",
      "\n",
      "\n",
      "As an avid gamer, I've always been on the lookout for a keyboard that can keep up with my fast-paced gaming sessions, and this\n",
      "keyboard delivers in every aspect. With its matte black finish and RGB backlighting, it instantly adds a touch of sophistication\n",
      "to my gaming setup. The keys are perfectly spaced and have just the right amount of resistance, making typing and gaming\n",
      "incredibly comfortable.  One of my favorite features of this keyboard is the hybrid mechanical switches. They combine the tactile\n",
      "feedback of a mechanical switch with the soft cushioned feel of a membrane switch. This unique combination provides a satisfying\n",
      "typing experience without compromising on comfort.  Another great feature is the fully programmable macro keys. With these\n",
      "customizable keys, I can assign complex actions or shortcuts to a single key press, giving me a competitive edge in games. It's\n",
      "incredibly convenient and has saved me countless keystrokes.  If I had to nitpick, I would say that the Ornata V3 X could benefit\n",
      "from dedicated media controls. While it does have media function keys integrated into the top row, having dedicated buttons would\n",
      "make adjusting volume or skipping tracks easier during gameplay.  Overall, I am very happy with my new keyboard and don't see\n",
      "myself replacing it anytime soon.\n",
      "\n",
      "\n"
     ]
    }
   ],
   "source": [
    "data = {'X_test': X_test, 'y_test': y_test, 'y_pred': predictCSV}\n",
    "temp_df = pd.DataFrame(data)\n",
    "\n",
    "# Filter the DataFrame to get the desired rows\n",
    "filtered_df = temp_df[(temp_df['y_test'] == 1) & (temp_df['y_pred'] == 0)]\n",
    "\n",
    "# Display the texts from X_test where y_test = 1 and y_pred = 0\n",
    "texts_where_mismatch = filtered_df['X_test'].tolist()\n",
    "\n",
    "print(\"False Negatives:\")\n",
    "print(\"===========================\\n\")\n",
    "\n",
    "# Iterate over each text and print it with word wrap\n",
    "for text in texts_where_mismatch:\n",
    "    wrapped_text = textwrap.fill(text, width=130)  # Adjust width as needed\n",
    "    print(wrapped_text)\n",
    "    print('\\n')\n"
   ]
  },
  {
   "cell_type": "code",
   "execution_count": 14,
   "metadata": {},
   "outputs": [
    {
     "name": "stdout",
     "output_type": "stream",
     "text": [
      "False Positives:\n",
      "===========================\n",
      "\n",
      "Must have for my daily makeup routine. 4 stars only because I'm looking for a powder that makes me young again. Until then, I'll\n",
      "use this guy.\n",
      "\n",
      "\n"
     ]
    }
   ],
   "source": [
    "# Filter the DataFrame to get the desired rows\n",
    "filtered_df = temp_df[(temp_df['y_test'] == 0) & (temp_df['y_pred'] == 1)]\n",
    "\n",
    "# Display the texts from X_test where y_test = 1 and y_pred = 0\n",
    "texts_where_mismatch = filtered_df['X_test'].tolist()\n",
    "\n",
    "print(\"False Positives:\")\n",
    "print(\"===========================\\n\")\n",
    "\n",
    "# Iterate over each text and print it with word wrap\n",
    "for text in texts_where_mismatch:\n",
    "    wrapped_text = textwrap.fill(text, width=130)  # Adjust width as needed\n",
    "    print(wrapped_text)\n",
    "    print('\\n')"
   ]
  },
  {
   "cell_type": "code",
   "execution_count": 15,
   "metadata": {},
   "outputs": [],
   "source": [
    "# text = \"I recently added the Lenovo Legion Go to my handheld gaming collection, and it has truly surpassed my expectations. As an owner of both the Lenovo Legion Go and the Steam Deck, I can confidently say that the Legion Go offers a superior gaming experience.  Build Quality: The Legion Go's sleek and sturdy design stands out, providing a premium feel compared to the Steam Deck. The ergonomic design ensures comfortable gaming sessions, and the build quality feels robust and durable.  Performance: The Legion Go outshines the Steam Deck in terms of performance. The seamless gameplay, powered by its impressive hardware, delivers smooth graphics and quick response times. It's evident that Lenovo has prioritized performance for an unparalleled gaming experience.  Display Quality: The Legion Go boasts a vibrant and crisp display, making games come to life with stunning visuals. When compared to the Steam Deck, the Legion Go's display stands out, offering better color accuracy and clarity, enhancing the overall gaming immersion.  Battery Life: Lenovo Legion Go impresses with its extended battery life, providing longer gaming sessions compared to the Steam Deck. This is a game-changer for on-the-go gaming enthusiasts, ensuring uninterrupted gameplay without the need for frequent recharging.  Customization and User Interface: Lenovo's commitment to user-friendly interfaces and customization options gives the Legion Go a significant edge. Navigating through menus and adjusting settings is intuitive, making it a breeze to personalize the gaming experience according to individual preferences.  In conclusion, as a proud owner of both handhelds, the Lenovo Legion Go has become my go-to device for immersive gaming sessions. Its superior build quality, unmatched performance, impressive display, extended battery life, and user-friendly interface make it a clear winner over the Steam Deck. If you're looking for the ultimate handheld gaming experience, the Legion Go is the way to go!\"\n",
    "\n",
    "# print(pipeSVC.predict([text]))"
   ]
  },
  {
   "cell_type": "code",
   "execution_count": 16,
   "metadata": {},
   "outputs": [],
   "source": [
    "porter = PorterStemmer()\n",
    "stop_words = set(stopwords.words('english'))\n",
    "linking_words = {'to', 'the', 'and', 'of', 'in', 'on', 'for', 'with', 'at', 'a', 'an'}\n",
    "\n",
    "# Function to count the length of each text and perform sentiment analysis\n",
    "def analyze_text(text):\n",
    "    tokens = word_tokenize(text.lower())\n",
    "    tokens = [token for token in tokens if token not in stop_words and token not in linking_words]\n",
    "    tokens = [token for token in tokens if token.isalpha()]\n",
    "    # Sentiment analysis\n",
    "    blob = TextBlob(text)\n",
    "    sentiment_scores = [sentence.sentiment.polarity for sentence in blob.sentences]\n",
    "    negative_count = sum(1 for score in sentiment_scores if score < 0)\n",
    "    return len(tokens), negative_count\n",
    "\n",
    "\n",
    "new_df = df[['body', 'isAI']].copy()\n",
    "new_df[['token_length', 'neg_sentiment_sentence_count']] = new_df['body'].apply(lambda x: pd.Series(analyze_text(x)))\n",
    "new_df['token_length'] = new_df['token_length'].astype(int)"
   ]
  },
  {
   "cell_type": "code",
   "execution_count": 17,
   "metadata": {},
   "outputs": [
    {
     "name": "stderr",
     "output_type": "stream",
     "text": [
      "/Users/allen/anaconda3/lib/python3.10/site-packages/sklearn/utils/validation.py:1184: DataConversionWarning: A column-vector y was passed when a 1d array was expected. Please change the shape of y to (n_samples, ), for example using ravel().\n",
      "  y = column_or_1d(y, warn=True)\n",
      "/Users/allen/anaconda3/lib/python3.10/site-packages/sklearn/utils/validation.py:1184: DataConversionWarning: A column-vector y was passed when a 1d array was expected. Please change the shape of y to (n_samples, ), for example using ravel().\n",
      "  y = column_or_1d(y, warn=True)\n",
      "/Users/allen/anaconda3/lib/python3.10/site-packages/sklearn/svm/_classes.py:32: FutureWarning: The default value of `dual` will change from `True` to `'auto'` in 1.5. Set the value of `dual` explicitly to suppress the warning.\n",
      "  warnings.warn(\n",
      "/Users/allen/anaconda3/lib/python3.10/site-packages/sklearn/svm/_base.py:1242: ConvergenceWarning: Liblinear failed to converge, increase the number of iterations.\n",
      "  warnings.warn(\n"
     ]
    },
    {
     "name": "stdout",
     "output_type": "stream",
     "text": [
      "LG:  96.25%\n",
      "SVC: 98.82%\n"
     ]
    },
    {
     "data": {
      "image/png": "[encoded data removed]",
      "text/plain": [
       "<Figure size 800x600 with 2 Axes>"
      ]
     },
     "metadata": {},
     "output_type": "display_data"
    }
   ],
   "source": [
    "from sklearn.compose import ColumnTransformer\n",
    "from sklearn.preprocessing import StandardScaler\n",
    "from sklearn.pipeline import make_pipeline\n",
    "\n",
    "X = new_df[['body', 'token_length', 'neg_sentiment_sentence_count']]\n",
    "y = new_df[['isAI']]\n",
    "X_train, X_test, y_train, y_test = train_test_split(X, y, test_size=0.3, random_state=42, stratify=y)\n",
    "\n",
    "# Column transformer to apply different preprocessing to different columns\n",
    "preprocessor = ColumnTransformer(\n",
    "    transformers=[\n",
    "        ('text', TfidfVectorizer(stop_words='english'), 'body'),\n",
    "        ('numerical', StandardScaler(), ['token_length', 'neg_sentiment_sentence_count'])\n",
    "    ],\n",
    "    remainder='passthrough'  # Pass through any remaining columns as they are\n",
    ")\n",
    "\n",
    "# Creating the pipeline with preprocessing and model\n",
    "pipeLogReg = make_pipeline(preprocessor, LogisticRegression())\n",
    "pipeSVC = make_pipeline(preprocessor, LinearSVC())\n",
    "\n",
    "# Fitting the pipeline to the training data\n",
    "pipeLogReg.fit(X_train,y_train)\n",
    "pipeSVC.fit(X_train,y_train)\n",
    "\n",
    "# Make predictions\n",
    "predictLogReg = pipeLogReg.predict(X_test)\n",
    "predictCSV = pipeSVC.predict(X_test)\n",
    "\n",
    "lg = accuracy_score(y_test,predictLogReg)\n",
    "svc = accuracy_score(y_test,predictCSV)\n",
    "\n",
    "print(f\"LG:  {lg*100:.2f}%\")\n",
    "print(f\"SVC: {svc*100:.2f}%\")\n",
    "\n",
    "conf_matrix = confusion_matrix(y_test, predictCSV)\n",
    "plot_confustion_matrix(conf_matrix)"
   ]
  }
 ],
 "metadata": {
  "kernelspec": {
   "display_name": "base",
   "language": "python",
   "name": "python3"
  },
  "language_info": {
   "codemirror_mode": {
    "name": "ipython",
    "version": 3
   },
   "file_extension": ".py",
   "mimetype": "text/x-python",
   "name": "python",
   "nbconvert_exporter": "python",
   "pygments_lexer": "ipython3",
   "version": "3.10.9"
  }
 },
 "nbformat": 4,
 "nbformat_minor": 2
}
